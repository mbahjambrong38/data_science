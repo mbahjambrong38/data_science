{
  "nbformat": 4,
  "nbformat_minor": 0,
  "metadata": {
    "colab": {
      "name": "Untitled7.ipynb",
      "provenance": [],
      "collapsed_sections": [],
      "machine_shape": "hm",
      "mount_file_id": "13EarSR4AwW2jCnKMCBQE2VKWvnRsUgBL",
      "authorship_tag": "ABX9TyOyyl3ozksk2LPU1vdLK0tU",
      "include_colab_link": true
    },
    "kernelspec": {
      "name": "python3",
      "display_name": "Python 3"
    },
    "language_info": {
      "name": "python"
    },
    "accelerator": "GPU"
  },
  "cells": [
    {
      "cell_type": "markdown",
      "metadata": {
        "id": "view-in-github",
        "colab_type": "text"
      },
      "source": [
        "<a href=\"https://colab.research.google.com/github/mochaji27/data_science/blob/main/Untitled7.ipynb\" target=\"_parent\"><img src=\"https://colab.research.google.com/assets/colab-badge.svg\" alt=\"Open In Colab\"/></a>"
      ]
    },
    {
      "cell_type": "markdown",
      "metadata": {
        "id": "i7jNwyLhIbtp"
      },
      "source": [
        "### Prediksi hujan esok hari di australia\n",
        "\n",
        "Dataset yang digunakan disini di ambil dari sumber kaggle : \n",
        "https://www.kaggle.com/jsphyg/weather-dataset-rattle-package\n",
        "\n",
        "Pada case ini ingin memprediksi apakah besok akan hujan atau tidak di negara australia dengan menggunakan beberapa variable. Salah satu variable yang akan menjadi target variable ialah RainTomorrow. \n",
        "\n",
        "Untuk memprediksinya, disini akan membandingkan beberapa model yaitu Logistic Regression, Decisition Tree, dan Multilayer Perceptron"
      ]
    },
    {
      "cell_type": "markdown",
      "metadata": {
        "id": "W1_gp08DHJmE"
      },
      "source": [
        "Pada case ini saya menggunakan beberapa library yaitu numpy, pandas, scipy, statistic, sklearn, matplotlib."
      ]
    },
    {
      "cell_type": "code",
      "metadata": {
        "id": "UEId5gUVMnz6"
      },
      "source": [
        "import pandas as pd\n",
        "import numpy as np\n",
        "\n",
        "import matplotlib.pyplot as plt\n",
        "\n",
        "from scipy import stats\n",
        "from statistics import mode\n",
        "from sklearn.model_selection import train_test_split\n",
        "from sklearn import tree\n",
        "\n",
        "from sklearn.utils import resample\n",
        "from sklearn.metrics import confusion_matrix\n",
        "from sklearn.metrics import classification_report\n",
        "from sklearn.metrics import accuracy_score\n",
        "from sklearn.linear_model import LogisticRegression\n",
        "\n",
        "from matplotlib import pyplot"
      ],
      "execution_count": null,
      "outputs": []
    },
    {
      "cell_type": "markdown",
      "metadata": {
        "id": "Qx4IQVDAfbbG"
      },
      "source": [
        "Setelah library di import, kita akan mengimport data yang sudah di download. Disini saya menggunakan google colab yang dimana akan mengimport file dari google drive. \n",
        "\n",
        "Setelah mengimport file, kita akan menghapus / drop column yang bernama Date dikarenakan kita tidak menggunakan column tersebut untuk prediksi karena bertipe data Date. Sebenernya bisa kalau kita mau memakai column tersebut dengan mengekstrak hari dan bulan nya, tetapi disini saya lebih prefer kalau date tersebut dibuang.\n",
        "\n",
        "\n"
      ]
    },
    {
      "cell_type": "code",
      "metadata": {
        "id": "NTkRmR2LM1Bz"
      },
      "source": [
        "df = pd.read_csv(\"../content/drive/MyDrive/Colab Notebooks/dataset/weatherAUS.csv\")\n",
        "df.drop(\"Date\", axis = 1, inplace = True)"
      ],
      "execution_count": null,
      "outputs": []
    },
    {
      "cell_type": "markdown",
      "metadata": {
        "id": "8q0RNC1-fhRP"
      },
      "source": [
        "Setelah data tersebut di import, kita akan melihat semua tide data pada setiap column. Disini menurut saya ada yang kurang sesuai, misalnya seperti Location maupun RainToday yang seharusnya bertipe category. Maka dari itu nanti akan kita rubah tipe data dari column tersebut."
      ]
    },
    {
      "cell_type": "code",
      "metadata": {
        "id": "NMA-N7yvNHYY",
        "colab": {
          "base_uri": "https://localhost:8080/"
        },
        "outputId": "ce7b594c-a495-4df8-c9eb-3ca59804bbc8"
      },
      "source": [
        "df.dtypes"
      ],
      "execution_count": null,
      "outputs": [
        {
          "output_type": "execute_result",
          "data": {
            "text/plain": [
              "Location          object\n",
              "MinTemp          float64\n",
              "MaxTemp          float64\n",
              "Rainfall         float64\n",
              "Evaporation      float64\n",
              "Sunshine         float64\n",
              "WindGustDir       object\n",
              "WindGustSpeed    float64\n",
              "WindDir9am        object\n",
              "WindDir3pm        object\n",
              "WindSpeed9am     float64\n",
              "WindSpeed3pm     float64\n",
              "Humidity9am      float64\n",
              "Humidity3pm      float64\n",
              "Pressure9am      float64\n",
              "Pressure3pm      float64\n",
              "Cloud9am         float64\n",
              "Cloud3pm         float64\n",
              "Temp9am          float64\n",
              "Temp3pm          float64\n",
              "RainToday         object\n",
              "RainTomorrow      object\n",
              "dtype: object"
            ]
          },
          "metadata": {},
          "execution_count": 3
        }
      ]
    },
    {
      "cell_type": "markdown",
      "metadata": {
        "id": "EnBpsqrEfjvn"
      },
      "source": [
        "Kita akan melihat sekilas data tersebut menggunakan function `head()`."
      ]
    },
    {
      "cell_type": "code",
      "metadata": {
        "colab": {
          "base_uri": "https://localhost:8080/",
          "height": 224
        },
        "id": "u-0uLmhdSlTY",
        "outputId": "ccf7fc87-11c5-4dc8-d36b-5c53ab624b74"
      },
      "source": [
        "df.head()"
      ],
      "execution_count": null,
      "outputs": [
        {
          "output_type": "execute_result",
          "data": {
            "text/html": [
              "<div>\n",
              "<style scoped>\n",
              "    .dataframe tbody tr th:only-of-type {\n",
              "        vertical-align: middle;\n",
              "    }\n",
              "\n",
              "    .dataframe tbody tr th {\n",
              "        vertical-align: top;\n",
              "    }\n",
              "\n",
              "    .dataframe thead th {\n",
              "        text-align: right;\n",
              "    }\n",
              "</style>\n",
              "<table border=\"1\" class=\"dataframe\">\n",
              "  <thead>\n",
              "    <tr style=\"text-align: right;\">\n",
              "      <th></th>\n",
              "      <th>Location</th>\n",
              "      <th>MinTemp</th>\n",
              "      <th>MaxTemp</th>\n",
              "      <th>Rainfall</th>\n",
              "      <th>Evaporation</th>\n",
              "      <th>Sunshine</th>\n",
              "      <th>WindGustDir</th>\n",
              "      <th>WindGustSpeed</th>\n",
              "      <th>WindDir9am</th>\n",
              "      <th>WindDir3pm</th>\n",
              "      <th>WindSpeed9am</th>\n",
              "      <th>WindSpeed3pm</th>\n",
              "      <th>Humidity9am</th>\n",
              "      <th>Humidity3pm</th>\n",
              "      <th>Pressure9am</th>\n",
              "      <th>Pressure3pm</th>\n",
              "      <th>Cloud9am</th>\n",
              "      <th>Cloud3pm</th>\n",
              "      <th>Temp9am</th>\n",
              "      <th>Temp3pm</th>\n",
              "      <th>RainToday</th>\n",
              "      <th>RainTomorrow</th>\n",
              "    </tr>\n",
              "  </thead>\n",
              "  <tbody>\n",
              "    <tr>\n",
              "      <th>0</th>\n",
              "      <td>Albury</td>\n",
              "      <td>13.4</td>\n",
              "      <td>22.9</td>\n",
              "      <td>0.6</td>\n",
              "      <td>NaN</td>\n",
              "      <td>NaN</td>\n",
              "      <td>W</td>\n",
              "      <td>44.0</td>\n",
              "      <td>W</td>\n",
              "      <td>WNW</td>\n",
              "      <td>20.0</td>\n",
              "      <td>24.0</td>\n",
              "      <td>71.0</td>\n",
              "      <td>22.0</td>\n",
              "      <td>1007.7</td>\n",
              "      <td>1007.1</td>\n",
              "      <td>8.0</td>\n",
              "      <td>NaN</td>\n",
              "      <td>16.9</td>\n",
              "      <td>21.8</td>\n",
              "      <td>No</td>\n",
              "      <td>No</td>\n",
              "    </tr>\n",
              "    <tr>\n",
              "      <th>1</th>\n",
              "      <td>Albury</td>\n",
              "      <td>7.4</td>\n",
              "      <td>25.1</td>\n",
              "      <td>0.0</td>\n",
              "      <td>NaN</td>\n",
              "      <td>NaN</td>\n",
              "      <td>WNW</td>\n",
              "      <td>44.0</td>\n",
              "      <td>NNW</td>\n",
              "      <td>WSW</td>\n",
              "      <td>4.0</td>\n",
              "      <td>22.0</td>\n",
              "      <td>44.0</td>\n",
              "      <td>25.0</td>\n",
              "      <td>1010.6</td>\n",
              "      <td>1007.8</td>\n",
              "      <td>NaN</td>\n",
              "      <td>NaN</td>\n",
              "      <td>17.2</td>\n",
              "      <td>24.3</td>\n",
              "      <td>No</td>\n",
              "      <td>No</td>\n",
              "    </tr>\n",
              "    <tr>\n",
              "      <th>2</th>\n",
              "      <td>Albury</td>\n",
              "      <td>12.9</td>\n",
              "      <td>25.7</td>\n",
              "      <td>0.0</td>\n",
              "      <td>NaN</td>\n",
              "      <td>NaN</td>\n",
              "      <td>WSW</td>\n",
              "      <td>46.0</td>\n",
              "      <td>W</td>\n",
              "      <td>WSW</td>\n",
              "      <td>19.0</td>\n",
              "      <td>26.0</td>\n",
              "      <td>38.0</td>\n",
              "      <td>30.0</td>\n",
              "      <td>1007.6</td>\n",
              "      <td>1008.7</td>\n",
              "      <td>NaN</td>\n",
              "      <td>2.0</td>\n",
              "      <td>21.0</td>\n",
              "      <td>23.2</td>\n",
              "      <td>No</td>\n",
              "      <td>No</td>\n",
              "    </tr>\n",
              "    <tr>\n",
              "      <th>3</th>\n",
              "      <td>Albury</td>\n",
              "      <td>9.2</td>\n",
              "      <td>28.0</td>\n",
              "      <td>0.0</td>\n",
              "      <td>NaN</td>\n",
              "      <td>NaN</td>\n",
              "      <td>NE</td>\n",
              "      <td>24.0</td>\n",
              "      <td>SE</td>\n",
              "      <td>E</td>\n",
              "      <td>11.0</td>\n",
              "      <td>9.0</td>\n",
              "      <td>45.0</td>\n",
              "      <td>16.0</td>\n",
              "      <td>1017.6</td>\n",
              "      <td>1012.8</td>\n",
              "      <td>NaN</td>\n",
              "      <td>NaN</td>\n",
              "      <td>18.1</td>\n",
              "      <td>26.5</td>\n",
              "      <td>No</td>\n",
              "      <td>No</td>\n",
              "    </tr>\n",
              "    <tr>\n",
              "      <th>4</th>\n",
              "      <td>Albury</td>\n",
              "      <td>17.5</td>\n",
              "      <td>32.3</td>\n",
              "      <td>1.0</td>\n",
              "      <td>NaN</td>\n",
              "      <td>NaN</td>\n",
              "      <td>W</td>\n",
              "      <td>41.0</td>\n",
              "      <td>ENE</td>\n",
              "      <td>NW</td>\n",
              "      <td>7.0</td>\n",
              "      <td>20.0</td>\n",
              "      <td>82.0</td>\n",
              "      <td>33.0</td>\n",
              "      <td>1010.8</td>\n",
              "      <td>1006.0</td>\n",
              "      <td>7.0</td>\n",
              "      <td>8.0</td>\n",
              "      <td>17.8</td>\n",
              "      <td>29.7</td>\n",
              "      <td>No</td>\n",
              "      <td>No</td>\n",
              "    </tr>\n",
              "  </tbody>\n",
              "</table>\n",
              "</div>"
            ],
            "text/plain": [
              "  Location  MinTemp  MaxTemp  Rainfall  ...  Temp9am  Temp3pm RainToday  RainTomorrow\n",
              "0   Albury     13.4     22.9       0.6  ...     16.9     21.8        No            No\n",
              "1   Albury      7.4     25.1       0.0  ...     17.2     24.3        No            No\n",
              "2   Albury     12.9     25.7       0.0  ...     21.0     23.2        No            No\n",
              "3   Albury      9.2     28.0       0.0  ...     18.1     26.5        No            No\n",
              "4   Albury     17.5     32.3       1.0  ...     17.8     29.7        No            No\n",
              "\n",
              "[5 rows x 22 columns]"
            ]
          },
          "metadata": {},
          "execution_count": 4
        }
      ]
    },
    {
      "cell_type": "markdown",
      "metadata": {
        "id": "B3JmDGqDflX3"
      },
      "source": [
        "Setelah kita melihat sekilas data tersebut, maka kita juga akan melihat summary dari data tersebut menggunakan function `describe()` untuk melihat summary dari setiap column yang bertipe angka."
      ]
    },
    {
      "cell_type": "code",
      "metadata": {
        "colab": {
          "base_uri": "https://localhost:8080/",
          "height": 317
        },
        "id": "xrkL5SbDX1_n",
        "outputId": "5e6e321f-b505-4710-f9fb-b0da708cd201"
      },
      "source": [
        "df.describe()"
      ],
      "execution_count": null,
      "outputs": [
        {
          "output_type": "execute_result",
          "data": {
            "text/html": [
              "<div>\n",
              "<style scoped>\n",
              "    .dataframe tbody tr th:only-of-type {\n",
              "        vertical-align: middle;\n",
              "    }\n",
              "\n",
              "    .dataframe tbody tr th {\n",
              "        vertical-align: top;\n",
              "    }\n",
              "\n",
              "    .dataframe thead th {\n",
              "        text-align: right;\n",
              "    }\n",
              "</style>\n",
              "<table border=\"1\" class=\"dataframe\">\n",
              "  <thead>\n",
              "    <tr style=\"text-align: right;\">\n",
              "      <th></th>\n",
              "      <th>MinTemp</th>\n",
              "      <th>MaxTemp</th>\n",
              "      <th>Rainfall</th>\n",
              "      <th>Evaporation</th>\n",
              "      <th>Sunshine</th>\n",
              "      <th>WindGustSpeed</th>\n",
              "      <th>WindSpeed9am</th>\n",
              "      <th>WindSpeed3pm</th>\n",
              "      <th>Humidity9am</th>\n",
              "      <th>Humidity3pm</th>\n",
              "      <th>Pressure9am</th>\n",
              "      <th>Pressure3pm</th>\n",
              "      <th>Cloud9am</th>\n",
              "      <th>Cloud3pm</th>\n",
              "      <th>Temp9am</th>\n",
              "      <th>Temp3pm</th>\n",
              "    </tr>\n",
              "  </thead>\n",
              "  <tbody>\n",
              "    <tr>\n",
              "      <th>count</th>\n",
              "      <td>143975.000000</td>\n",
              "      <td>144199.000000</td>\n",
              "      <td>142199.000000</td>\n",
              "      <td>82670.000000</td>\n",
              "      <td>75625.000000</td>\n",
              "      <td>135197.000000</td>\n",
              "      <td>143693.000000</td>\n",
              "      <td>142398.000000</td>\n",
              "      <td>142806.000000</td>\n",
              "      <td>140953.000000</td>\n",
              "      <td>130395.00000</td>\n",
              "      <td>130432.000000</td>\n",
              "      <td>89572.000000</td>\n",
              "      <td>86102.000000</td>\n",
              "      <td>143693.000000</td>\n",
              "      <td>141851.00000</td>\n",
              "    </tr>\n",
              "    <tr>\n",
              "      <th>mean</th>\n",
              "      <td>12.194034</td>\n",
              "      <td>23.221348</td>\n",
              "      <td>2.360918</td>\n",
              "      <td>5.468232</td>\n",
              "      <td>7.611178</td>\n",
              "      <td>40.035230</td>\n",
              "      <td>14.043426</td>\n",
              "      <td>18.662657</td>\n",
              "      <td>68.880831</td>\n",
              "      <td>51.539116</td>\n",
              "      <td>1017.64994</td>\n",
              "      <td>1015.255889</td>\n",
              "      <td>4.447461</td>\n",
              "      <td>4.509930</td>\n",
              "      <td>16.990631</td>\n",
              "      <td>21.68339</td>\n",
              "    </tr>\n",
              "    <tr>\n",
              "      <th>std</th>\n",
              "      <td>6.398495</td>\n",
              "      <td>7.119049</td>\n",
              "      <td>8.478060</td>\n",
              "      <td>4.193704</td>\n",
              "      <td>3.785483</td>\n",
              "      <td>13.607062</td>\n",
              "      <td>8.915375</td>\n",
              "      <td>8.809800</td>\n",
              "      <td>19.029164</td>\n",
              "      <td>20.795902</td>\n",
              "      <td>7.10653</td>\n",
              "      <td>7.037414</td>\n",
              "      <td>2.887159</td>\n",
              "      <td>2.720357</td>\n",
              "      <td>6.488753</td>\n",
              "      <td>6.93665</td>\n",
              "    </tr>\n",
              "    <tr>\n",
              "      <th>min</th>\n",
              "      <td>-8.500000</td>\n",
              "      <td>-4.800000</td>\n",
              "      <td>0.000000</td>\n",
              "      <td>0.000000</td>\n",
              "      <td>0.000000</td>\n",
              "      <td>6.000000</td>\n",
              "      <td>0.000000</td>\n",
              "      <td>0.000000</td>\n",
              "      <td>0.000000</td>\n",
              "      <td>0.000000</td>\n",
              "      <td>980.50000</td>\n",
              "      <td>977.100000</td>\n",
              "      <td>0.000000</td>\n",
              "      <td>0.000000</td>\n",
              "      <td>-7.200000</td>\n",
              "      <td>-5.40000</td>\n",
              "    </tr>\n",
              "    <tr>\n",
              "      <th>25%</th>\n",
              "      <td>7.600000</td>\n",
              "      <td>17.900000</td>\n",
              "      <td>0.000000</td>\n",
              "      <td>2.600000</td>\n",
              "      <td>4.800000</td>\n",
              "      <td>31.000000</td>\n",
              "      <td>7.000000</td>\n",
              "      <td>13.000000</td>\n",
              "      <td>57.000000</td>\n",
              "      <td>37.000000</td>\n",
              "      <td>1012.90000</td>\n",
              "      <td>1010.400000</td>\n",
              "      <td>1.000000</td>\n",
              "      <td>2.000000</td>\n",
              "      <td>12.300000</td>\n",
              "      <td>16.60000</td>\n",
              "    </tr>\n",
              "    <tr>\n",
              "      <th>50%</th>\n",
              "      <td>12.000000</td>\n",
              "      <td>22.600000</td>\n",
              "      <td>0.000000</td>\n",
              "      <td>4.800000</td>\n",
              "      <td>8.400000</td>\n",
              "      <td>39.000000</td>\n",
              "      <td>13.000000</td>\n",
              "      <td>19.000000</td>\n",
              "      <td>70.000000</td>\n",
              "      <td>52.000000</td>\n",
              "      <td>1017.60000</td>\n",
              "      <td>1015.200000</td>\n",
              "      <td>5.000000</td>\n",
              "      <td>5.000000</td>\n",
              "      <td>16.700000</td>\n",
              "      <td>21.10000</td>\n",
              "    </tr>\n",
              "    <tr>\n",
              "      <th>75%</th>\n",
              "      <td>16.900000</td>\n",
              "      <td>28.200000</td>\n",
              "      <td>0.800000</td>\n",
              "      <td>7.400000</td>\n",
              "      <td>10.600000</td>\n",
              "      <td>48.000000</td>\n",
              "      <td>19.000000</td>\n",
              "      <td>24.000000</td>\n",
              "      <td>83.000000</td>\n",
              "      <td>66.000000</td>\n",
              "      <td>1022.40000</td>\n",
              "      <td>1020.000000</td>\n",
              "      <td>7.000000</td>\n",
              "      <td>7.000000</td>\n",
              "      <td>21.600000</td>\n",
              "      <td>26.40000</td>\n",
              "    </tr>\n",
              "    <tr>\n",
              "      <th>max</th>\n",
              "      <td>33.900000</td>\n",
              "      <td>48.100000</td>\n",
              "      <td>371.000000</td>\n",
              "      <td>145.000000</td>\n",
              "      <td>14.500000</td>\n",
              "      <td>135.000000</td>\n",
              "      <td>130.000000</td>\n",
              "      <td>87.000000</td>\n",
              "      <td>100.000000</td>\n",
              "      <td>100.000000</td>\n",
              "      <td>1041.00000</td>\n",
              "      <td>1039.600000</td>\n",
              "      <td>9.000000</td>\n",
              "      <td>9.000000</td>\n",
              "      <td>40.200000</td>\n",
              "      <td>46.70000</td>\n",
              "    </tr>\n",
              "  </tbody>\n",
              "</table>\n",
              "</div>"
            ],
            "text/plain": [
              "             MinTemp        MaxTemp  ...        Temp9am       Temp3pm\n",
              "count  143975.000000  144199.000000  ...  143693.000000  141851.00000\n",
              "mean       12.194034      23.221348  ...      16.990631      21.68339\n",
              "std         6.398495       7.119049  ...       6.488753       6.93665\n",
              "min        -8.500000      -4.800000  ...      -7.200000      -5.40000\n",
              "25%         7.600000      17.900000  ...      12.300000      16.60000\n",
              "50%        12.000000      22.600000  ...      16.700000      21.10000\n",
              "75%        16.900000      28.200000  ...      21.600000      26.40000\n",
              "max        33.900000      48.100000  ...      40.200000      46.70000\n",
              "\n",
              "[8 rows x 16 columns]"
            ]
          },
          "metadata": {},
          "execution_count": 5
        }
      ]
    },
    {
      "cell_type": "markdown",
      "metadata": {
        "id": "7LBi6eLKfnFX"
      },
      "source": [
        "Setelah kita melihat summary dari semua column yang bertipe data angka, kita akan melihat apakah data yang kita punya mengandung missing values atau tidak dengan menggunakan function `isnull()` dan disambungkan dengan `sum()`."
      ]
    },
    {
      "cell_type": "code",
      "metadata": {
        "colab": {
          "base_uri": "https://localhost:8080/"
        },
        "id": "e7EahacHYDBZ",
        "outputId": "ead072ca-6cf6-4e34-c1ab-dd84d008fc46"
      },
      "source": [
        "df.isnull().sum()"
      ],
      "execution_count": null,
      "outputs": [
        {
          "output_type": "execute_result",
          "data": {
            "text/plain": [
              "Location             0\n",
              "MinTemp           1485\n",
              "MaxTemp           1261\n",
              "Rainfall          3261\n",
              "Evaporation      62790\n",
              "Sunshine         69835\n",
              "WindGustDir      10326\n",
              "WindGustSpeed    10263\n",
              "WindDir9am       10566\n",
              "WindDir3pm        4228\n",
              "WindSpeed9am      1767\n",
              "WindSpeed3pm      3062\n",
              "Humidity9am       2654\n",
              "Humidity3pm       4507\n",
              "Pressure9am      15065\n",
              "Pressure3pm      15028\n",
              "Cloud9am         55888\n",
              "Cloud3pm         59358\n",
              "Temp9am           1767\n",
              "Temp3pm           3609\n",
              "RainToday         3261\n",
              "RainTomorrow      3267\n",
              "dtype: int64"
            ]
          },
          "metadata": {},
          "execution_count": 6
        }
      ]
    },
    {
      "cell_type": "markdown",
      "metadata": {
        "id": "S_Yu9emwforv"
      },
      "source": [
        "Ternyata data kita memiliki banyak missing values. Kita akan melihat berapa persentase data yang hilang dibandingkan dengan keseluruhan data yang kita punya."
      ]
    },
    {
      "cell_type": "code",
      "metadata": {
        "id": "YbiTLKcshmHx",
        "colab": {
          "base_uri": "https://localhost:8080/"
        },
        "outputId": "2d5637f6-a0de-4d37-fc65-f58bdf15d97f"
      },
      "source": [
        "df_total_null = df.isnull().sum().sum()\n",
        "df_total = np.product(df.shape)\n",
        "\n",
        "null_perc = (df_total_null / df_total) * 100\n",
        "null_perc"
      ],
      "execution_count": null,
      "outputs": [
        {
          "output_type": "execute_result",
          "data": {
            "text/plain": [
              "10.726097771333574"
            ]
          },
          "metadata": {},
          "execution_count": 7
        }
      ]
    },
    {
      "cell_type": "markdown",
      "metadata": {
        "id": "TWDxUhrCK2VN"
      },
      "source": [
        "Ternyata kita mempunyai 10% data missing values dari total data yang kita punya. Nanti kita akan memanipulasi missing value tersebut.\n",
        "\n",
        "\n",
        "Setelah itu kita merubah tipe data object menjadi category sesuai dengan informasi dari setiap column nya menggunakan function `astype()`."
      ]
    },
    {
      "cell_type": "code",
      "metadata": {
        "id": "3BXEiMUUgJBo"
      },
      "source": [
        "df[[\"Location\",\"WindGustDir\",\"WindDir9am\", \"WindDir3pm\", \"RainToday\", \"RainTomorrow\"]] = df[[\"Location\",\n",
        "                                                                                                       \"WindGustDir\",\n",
        "                                                                                                       \"WindDir9am\", \n",
        "                                                                                                       \"WindDir3pm\", \n",
        "                                                                                                       \"RainToday\", \n",
        "                                                                                                       \"RainTomorrow\"]].astype(\"category\")"
      ],
      "execution_count": null,
      "outputs": []
    },
    {
      "cell_type": "markdown",
      "metadata": {
        "id": "U5ZTUq6NLONR"
      },
      "source": [
        "Disini kita membuat variable baru yang bernama `df_dropna` yang dimana variable ini menampung data yang kita punya sebelumnya dengan menghapus row yang mempunyai missing value. "
      ]
    },
    {
      "cell_type": "code",
      "metadata": {
        "id": "0w85VKIqivLo",
        "colab": {
          "base_uri": "https://localhost:8080/"
        },
        "outputId": "a5980efd-99a4-4748-8e27-43a2d7f8790e"
      },
      "source": [
        "df_dropna = df.dropna()\n",
        "df_dropna.shape"
      ],
      "execution_count": null,
      "outputs": [
        {
          "output_type": "execute_result",
          "data": {
            "text/plain": [
              "(56420, 22)"
            ]
          },
          "metadata": {},
          "execution_count": 9
        }
      ]
    },
    {
      "cell_type": "markdown",
      "metadata": {
        "id": "zFVX8mRnOZCF"
      },
      "source": [
        "Setelah itu, kita membuat sebuah function yang bernama `fill_na()` untuk mengisi missing value yang kita punya sebelumnya. Disini akan kita manipulasi data yang berisikan missing value sesuai dengan tipe data.\n",
        "\n",
        "1.   Category\n",
        "\n",
        "> Untuk column yang bertipe data category, kita akan mengisikan missing value dengan modus / mode dari column tersebut\n",
        "\n",
        "\n",
        "2.   Float / int\n",
        "\n",
        "\n",
        "> Untuk column yang bertipe data angka / float, kita akan mengisinya dengan mean/median. untuk column yang mempunyai nilai zscore lebih dari 3 atau kurang dari 3, maka akan diisi oleh `median`. Jika tidak ada data yang zscore nya lebih atau kurang dari 3, maka akan menggunakan `mean`\n",
        "\n",
        "Setelah data tersebut terisi, maka data tersebut akan di return\n",
        "\n",
        "\n",
        "\n"
      ]
    },
    {
      "cell_type": "code",
      "metadata": {
        "id": "j1if0s_t1eE4"
      },
      "source": [
        "def fill_na(data):\n",
        "  for i in range(data.shape[1]):\n",
        "    if data.iloc[:,i].dtypes.name == 'category':\n",
        "      data.iloc[:,i] = data.iloc[:,i].fillna(mode(data.iloc[:,i]))\n",
        "    elif data.iloc[:,i].dtypes == np.int64 or data.iloc[:,i].dtypes == np.float64:\n",
        "      if np.count_nonzero(np.abs(stats.zscore(data.iloc[:,i].dropna())) > 3) == 0:\n",
        "        data.iloc[:,i] = data.iloc[:,i].fillna(data.iloc[:,i].mean())\n",
        "      else:\n",
        "        data.iloc[:,i] = data.iloc[:,i].fillna(data.iloc[:,i].median())\n",
        "  return data\n"
      ],
      "execution_count": null,
      "outputs": []
    },
    {
      "cell_type": "markdown",
      "metadata": {
        "id": "2yiNPhSgab71"
      },
      "source": [
        "Setelah kita membuat function fill_na, maka kita akan memanggilnya untuk menghilangkan NA di dalam data kita dengan cara masing-masing sesuai dengan tipe datanya. Dan kita simpan kedalam df_fill. Yang berarti sekarang kita punya 2 dataframe yang berbeda yaitu `df_fill` yang berisikan data NA yang sudah kita isi dan `df_drop` yang berisikan data NA yang sudah kita buang."
      ]
    },
    {
      "cell_type": "code",
      "metadata": {
        "id": "iwpy0ovk0JVh"
      },
      "source": [
        "df_fill = fill_na(df)"
      ],
      "execution_count": null,
      "outputs": []
    },
    {
      "cell_type": "markdown",
      "metadata": {
        "id": "8x5wo8OQasbb"
      },
      "source": [
        "Setelah kita memanggil function fill_na, maka kita perlu mengecek kembali data kita."
      ]
    },
    {
      "cell_type": "code",
      "metadata": {
        "colab": {
          "base_uri": "https://localhost:8080/"
        },
        "id": "CI5FSAdMTtUd",
        "outputId": "55d9aba6-5a5c-4ecd-afdd-c3ca032843f9"
      },
      "source": [
        "df_fill.isna().sum()"
      ],
      "execution_count": null,
      "outputs": [
        {
          "output_type": "execute_result",
          "data": {
            "text/plain": [
              "Location             0\n",
              "MinTemp              0\n",
              "MaxTemp              0\n",
              "Rainfall             0\n",
              "Evaporation          0\n",
              "Sunshine             0\n",
              "WindGustDir      10326\n",
              "WindGustSpeed        0\n",
              "WindDir9am           0\n",
              "WindDir3pm           0\n",
              "WindSpeed9am         0\n",
              "WindSpeed3pm         0\n",
              "Humidity9am          0\n",
              "Humidity3pm          0\n",
              "Pressure9am          0\n",
              "Pressure3pm          0\n",
              "Cloud9am             0\n",
              "Cloud3pm             0\n",
              "Temp9am              0\n",
              "Temp3pm              0\n",
              "RainToday            0\n",
              "RainTomorrow         0\n",
              "dtype: int64"
            ]
          },
          "metadata": {},
          "execution_count": 12
        }
      ]
    },
    {
      "cell_type": "markdown",
      "metadata": {
        "id": "8j-vpnIoazpR"
      },
      "source": [
        "Ternyata masih ada 1 column WindGustDir yang masih mempunyai nilai NA, ternyata column tersebut mempunyai data null yang lebih banyak dari pada data yang terisi. Dan column WindGustDir bertipe data category yang dimana column yang bertipe data category akan mengisi nilai nullnya dengan cara mengambil modus nya, dan ternyata modus dari data tersebut ialah NA, sehingga NA dari data tersebut tidak berubah."
      ]
    },
    {
      "cell_type": "code",
      "metadata": {
        "colab": {
          "base_uri": "https://localhost:8080/"
        },
        "id": "E2aXLONjbqt5",
        "outputId": "c71a58cc-586d-4b6d-e00f-3e9905fe0fa6"
      },
      "source": [
        "df_fill.dtypes"
      ],
      "execution_count": null,
      "outputs": [
        {
          "output_type": "execute_result",
          "data": {
            "text/plain": [
              "Location         category\n",
              "MinTemp           float64\n",
              "MaxTemp           float64\n",
              "Rainfall          float64\n",
              "Evaporation       float64\n",
              "Sunshine          float64\n",
              "WindGustDir      category\n",
              "WindGustSpeed     float64\n",
              "WindDir9am       category\n",
              "WindDir3pm       category\n",
              "WindSpeed9am      float64\n",
              "WindSpeed3pm      float64\n",
              "Humidity9am       float64\n",
              "Humidity3pm       float64\n",
              "Pressure9am       float64\n",
              "Pressure3pm       float64\n",
              "Cloud9am          float64\n",
              "Cloud3pm          float64\n",
              "Temp9am           float64\n",
              "Temp3pm           float64\n",
              "RainToday        category\n",
              "RainTomorrow     category\n",
              "dtype: object"
            ]
          },
          "metadata": {},
          "execution_count": 13
        }
      ]
    },
    {
      "cell_type": "markdown",
      "metadata": {
        "id": "NDzjsWV9bjrc"
      },
      "source": [
        "Untuk menghilangkan nilai NA tersebut, disini saya mau menggunakan prediksi untuk nilai-nilai NA tersebut, karena jika kita menghilangkan data tersebut, maka data kita akan hilang banyak.\n",
        "\n",
        "Maka dari itu, kita akan membagi 2 data tersebut menjadi data test dan train, yang dimana data train untuk belajar si model, dan data test itu berisikan data yang bernilai NA yang akan kita prediksi untuk mengisi NA tersebut\n",
        "\n"
      ]
    },
    {
      "cell_type": "code",
      "metadata": {
        "id": "R4D42C391sjx"
      },
      "source": [
        "\n",
        "df_fill_train = df_fill[np.invert(df_fill.loc[:,\"WindGustDir\"].isna())]\n",
        "df_fill_test = df_fill[df_fill.loc[:,\"WindGustDir\"].isna()]\n"
      ],
      "execution_count": null,
      "outputs": []
    },
    {
      "cell_type": "markdown",
      "metadata": {
        "id": "YORzA4_cb7wE"
      },
      "source": [
        ""
      ]
    },
    {
      "cell_type": "markdown",
      "metadata": {
        "id": "wQ1KfGxqdVdh"
      },
      "source": [
        "Setelah data tersebut di pisah, maka kedua data tersebut kita pecah menjadi 2 bagian lagi yaitu x dan y, yang dimana x merupakan column prediktor dan y adalah target."
      ]
    },
    {
      "cell_type": "code",
      "metadata": {
        "id": "dGQx1-iKO835"
      },
      "source": [
        "df_fill_train_x = df_fill_train.loc[:,~df_fill_train.columns.isin([\"WindGustDir\"])]\n",
        "df_fill_train_y = df_fill_train.loc[:,\"WindGustDir\"]\n",
        "\n",
        "df_fill_test_x = df_fill_test.loc[:,~df_fill_test.columns.isin([\"WindGustDir\"])]\n",
        "df_fill_test_y = df_fill_test.loc[:,\"WindGustDir\"]"
      ],
      "execution_count": null,
      "outputs": []
    },
    {
      "cell_type": "markdown",
      "metadata": {
        "id": "-N9mjiYZdnDL"
      },
      "source": [
        "Setelah kita pecah menjadi x dan y, kita akan mengecek lagi column yang kita pecah tersebut."
      ]
    },
    {
      "cell_type": "code",
      "metadata": {
        "colab": {
          "base_uri": "https://localhost:8080/"
        },
        "id": "6Ftm3ajUeucb",
        "outputId": "65bf3036-e134-4846-bcfc-5aa1cc1d900b"
      },
      "source": [
        "df_fill_train_x.dtypes"
      ],
      "execution_count": null,
      "outputs": [
        {
          "output_type": "execute_result",
          "data": {
            "text/plain": [
              "Location         category\n",
              "MinTemp           float64\n",
              "MaxTemp           float64\n",
              "Rainfall          float64\n",
              "Evaporation       float64\n",
              "Sunshine          float64\n",
              "WindGustSpeed     float64\n",
              "WindDir9am       category\n",
              "WindDir3pm       category\n",
              "WindSpeed9am      float64\n",
              "WindSpeed3pm      float64\n",
              "Humidity9am       float64\n",
              "Humidity3pm       float64\n",
              "Pressure9am       float64\n",
              "Pressure3pm       float64\n",
              "Cloud9am          float64\n",
              "Cloud3pm          float64\n",
              "Temp9am           float64\n",
              "Temp3pm           float64\n",
              "RainToday        category\n",
              "RainTomorrow     category\n",
              "dtype: object"
            ]
          },
          "metadata": {},
          "execution_count": 16
        }
      ]
    },
    {
      "cell_type": "markdown",
      "metadata": {
        "id": "xGtQo45idvMA"
      },
      "source": [
        "Sekarang kita akan mulai membuat model prediksi untuk memprediksi nilai NA di column WindGustDir. Disini saya menggunakan model Decision Tree dari sklearn.\n",
        "\n",
        "Sebelum model tersebut belajar, disini data `df_fill_train_x` yang bertipe data cateogry akan kita rubah menggunakan one hot encoder dari function `get_dummies` dari pandas."
      ]
    },
    {
      "cell_type": "code",
      "metadata": {
        "id": "wJw42NOMdh1x"
      },
      "source": [
        "fit_tree_fill = tree.DecisionTreeClassifier().fit(pd.get_dummies(df_fill_train_x), df_fill_train_y)"
      ],
      "execution_count": null,
      "outputs": []
    },
    {
      "cell_type": "markdown",
      "metadata": {
        "id": "fNAa9O8BfZV7"
      },
      "source": [
        "Setelah model tersebut belajar, maka kita akan mulai memprediksi menggunakan data test yang dimana target dari data terset tersebut akan kita isi dari hasil prediksi. Disini data `df_fill_test_x` yang bertipe data category akan kira rubah menggunakan one hot encoder seperti sebelumnya agar bisa di gunakan dalam prediksi. Dan hasil prediksi akan kita simpan dalam variable `pred`"
      ]
    },
    {
      "cell_type": "code",
      "metadata": {
        "id": "KpM4cNe1mpIw"
      },
      "source": [
        "pred = fit_tree_fill.predict(pd.get_dummies(df_fill_test_x))"
      ],
      "execution_count": null,
      "outputs": []
    },
    {
      "cell_type": "markdown",
      "metadata": {
        "id": "v9vcrxUzgN6Y"
      },
      "source": [
        "Setelah data prediksi kita dapat, maka kita akan mengganti nilai NA tersebut menjadi hasil prediksi yang sudah kita punya. Sehingga data yang kita punya sudah tidak ada yang NA, dan kita akan gabungkan semua data yang kita punya dari data train dan test yang sudah tidak ada NA."
      ]
    },
    {
      "cell_type": "code",
      "metadata": {
        "colab": {
          "base_uri": "https://localhost:8080/"
        },
        "id": "SKuTyf1unuoF",
        "outputId": "101905f4-8858-474c-da5f-ab30e2a58b79"
      },
      "source": [
        "df_fill_test.WindGustDir = pred\n",
        "\n",
        "df_clean = pd.concat([df_fill_train, df_fill_test])"
      ],
      "execution_count": null,
      "outputs": [
        {
          "output_type": "stream",
          "name": "stderr",
          "text": [
            "/usr/local/lib/python3.7/dist-packages/pandas/core/generic.py:5170: SettingWithCopyWarning: \n",
            "A value is trying to be set on a copy of a slice from a DataFrame.\n",
            "Try using .loc[row_indexer,col_indexer] = value instead\n",
            "\n",
            "See the caveats in the documentation: https://pandas.pydata.org/pandas-docs/stable/user_guide/indexing.html#returning-a-view-versus-a-copy\n",
            "  self[name] = value\n"
          ]
        }
      ]
    },
    {
      "cell_type": "markdown",
      "metadata": {
        "id": "Iw4eHnsqhXnd"
      },
      "source": [
        "Disini akan di cek kembali dari data tersebut, dan hasilnya sudah tidak ada data yang NA, sehingga kita dapat memprediksi target utama kita yaitu `RainTomorrow`."
      ]
    },
    {
      "cell_type": "code",
      "metadata": {
        "colab": {
          "base_uri": "https://localhost:8080/"
        },
        "id": "clpt1pGgoLVu",
        "outputId": "3c14bde5-6428-4587-972d-5abcbddb6d95"
      },
      "source": [
        "df_clean.isna().sum()"
      ],
      "execution_count": null,
      "outputs": [
        {
          "output_type": "execute_result",
          "data": {
            "text/plain": [
              "Location         0\n",
              "MinTemp          0\n",
              "MaxTemp          0\n",
              "Rainfall         0\n",
              "Evaporation      0\n",
              "Sunshine         0\n",
              "WindGustDir      0\n",
              "WindGustSpeed    0\n",
              "WindDir9am       0\n",
              "WindDir3pm       0\n",
              "WindSpeed9am     0\n",
              "WindSpeed3pm     0\n",
              "Humidity9am      0\n",
              "Humidity3pm      0\n",
              "Pressure9am      0\n",
              "Pressure3pm      0\n",
              "Cloud9am         0\n",
              "Cloud3pm         0\n",
              "Temp9am          0\n",
              "Temp3pm          0\n",
              "RainToday        0\n",
              "RainTomorrow     0\n",
              "dtype: int64"
            ]
          },
          "metadata": {},
          "execution_count": 20
        }
      ]
    },
    {
      "cell_type": "markdown",
      "metadata": {
        "id": "AG_9GjaZhme5"
      },
      "source": [
        ""
      ]
    },
    {
      "cell_type": "markdown",
      "metadata": {
        "id": "NaE1wqg3jXpb"
      },
      "source": [
        "Setelah kita pastikan sudah tidak ada data yang NA / missing, maka kita akan pakai data `df_clean` dan kita pecah kembali data tersebut menjadi `X_train_fill` yang berisikan data prediktor untuk model belajar, `y_train_fill` yang berisikan data target untuk model belajar, `X_test_fill` yang berisikan data prediktor untuk memvalidasi hasil model yang sudah kita buat, dan `y_test_fill` yang berisikan data target untuk memvalidasi hasil model yang sudah kita buat. Kita pecah menjadi 2 tipe data tersebut sebesar 0.8 untuk train, dan 0.2 untuk test"
      ]
    },
    {
      "cell_type": "code",
      "metadata": {
        "id": "7X4QStQ_oOYc"
      },
      "source": [
        "X_train_fill, X_test_fill, y_train_fill, y_test_fill = train_test_split(df_clean.loc[:,df_clean.columns != \"RainTomorrow\"], \n",
        "                                                    df_clean.RainTomorrow, \n",
        "                                                    test_size = 0.2, \n",
        "                                                    random_state = 0)\n",
        "X_train_fill[\"Y\"] = y_train_fill"
      ],
      "execution_count": null,
      "outputs": []
    },
    {
      "cell_type": "markdown",
      "metadata": {
        "id": "UEgx48lak-et"
      },
      "source": [
        "Setelah kita pastikan sudah tidak ada data yang NA / missing, maka kita akan pakai data `df_drop` dan kita pecah kembali data tersebut menjadi `X_train_drop` yang berisikan data prediktor untuk model belajar, `y_train_drop` yang berisikan data target untuk model belajar, `X_test_drop` yang berisikan data prediktor untuk memvalidasi hasil model yang sudah kita buat, dan `y_test_drop` yang berisikan data target untuk memvalidasi hasil model yang sudah kita buat. Kita pecah menjadi 2 tipe data tersebut sebesar 0.8 untuk train, dan 0.2 untuk test"
      ]
    },
    {
      "cell_type": "code",
      "metadata": {
        "id": "LRfnCBIehNGB"
      },
      "source": [
        "X_train_drop, X_test_drop, y_train_drop, y_test_drop = train_test_split(df_dropna.loc[:,df_dropna.columns != \"RainTomorrow\"], \n",
        "                                                    df_dropna.RainTomorrow, \n",
        "                                                    test_size = 0.2, \n",
        "                                                    random_state = 0)\n",
        "X_train_drop[\"Y\"] = y_train_drop"
      ],
      "execution_count": null,
      "outputs": []
    },
    {
      "cell_type": "markdown",
      "metadata": {
        "id": "npneb0mdllrU"
      },
      "source": [
        "Setelah data `df_train` dan `df_drop` kita pecah, kita sebaiknya melihat besaran data prediktor dari yang yang kita punya."
      ]
    },
    {
      "cell_type": "code",
      "metadata": {
        "colab": {
          "base_uri": "https://localhost:8080/"
        },
        "id": "j38tCzVWpz2y",
        "outputId": "2b461ff0-6797-44be-bcbc-17ac3005026e"
      },
      "source": [
        "print(\"fill : \")\n",
        "print(X_train_fill.shape)\n",
        "print(X_test_fill.shape)\n",
        "\n",
        "print(\"drop : \")\n",
        "print(X_train_drop.shape)\n",
        "print(X_test_drop.shape)"
      ],
      "execution_count": null,
      "outputs": [
        {
          "output_type": "stream",
          "name": "stdout",
          "text": [
            "fill : \n",
            "(116368, 22)\n",
            "(29092, 21)\n",
            "drop : \n",
            "(45136, 22)\n",
            "(11284, 21)\n"
          ]
        }
      ]
    },
    {
      "cell_type": "markdown",
      "metadata": {
        "id": "4us3NWPbnBmu"
      },
      "source": [
        "Sekarang kita harus lihat apakah data target yang kita punya itu balanced atau imbalanced. Dan ternyata data yang kita punya imbalanced."
      ]
    },
    {
      "cell_type": "code",
      "metadata": {
        "colab": {
          "base_uri": "https://localhost:8080/"
        },
        "id": "_nA2wUQErGyR",
        "outputId": "42ad5011-78ce-4152-c31e-5da42efaa93d"
      },
      "source": [
        "print(\"fill :\")\n",
        "print(X_train_fill.Y.value_counts())\n",
        "\n",
        "print(\"drop :\")\n",
        "print(X_train_drop.Y.value_counts())"
      ],
      "execution_count": null,
      "outputs": [
        {
          "output_type": "stream",
          "name": "stdout",
          "text": [
            "fill :\n",
            "No     90918\n",
            "Yes    25450\n",
            "Name: Y, dtype: int64\n",
            "drop :\n",
            "No     35139\n",
            "Yes     9997\n",
            "Name: Y, dtype: int64\n"
          ]
        }
      ]
    },
    {
      "cell_type": "markdown",
      "metadata": {
        "id": "efjDTYjqmxMp"
      },
      "source": [
        "Setelah mengetahui data kita imbalanced, langkah yang selanjutnya kita akan lakukan ialah membuat data yang kita punya menjadi balanced dengan cara upsample dan juga downsample menggunakan function `rsample` dan kita set agar data kita balanced di angka 50000."
      ]
    },
    {
      "cell_type": "code",
      "metadata": {
        "id": "AeX3Pxl2sa4t"
      },
      "source": [
        "X_train_up_fill = resample(X_train_fill[X_train_fill[\"Y\"] == \"Yes\"]\n",
        "                      ,replace = True\n",
        "                      ,n_samples = 50000)\n",
        "\n",
        "X_train_down_fill = resample(X_train_fill[X_train_fill[\"Y\"] == \"No\"]\n",
        "                      ,replace = True\n",
        "                      ,n_samples = 50000)"
      ],
      "execution_count": null,
      "outputs": []
    },
    {
      "cell_type": "code",
      "metadata": {
        "id": "5AdhSijXijFa"
      },
      "source": [
        "X_train_up_drop = resample(X_train_drop[X_train_drop[\"Y\"] == \"Yes\"]\n",
        "                      ,replace = True\n",
        "                      ,n_samples = 23000)\n",
        "\n",
        "X_train_down_drop = resample(X_train_drop[X_train_drop[\"Y\"] == \"No\"]\n",
        "                      ,replace = True\n",
        "                      ,n_samples = 23000)"
      ],
      "execution_count": null,
      "outputs": []
    },
    {
      "cell_type": "markdown",
      "metadata": {
        "id": "bkPPme-Lnj3D"
      },
      "source": [
        "Setelah data tersebut sudah kita resample, kita harus mengecek datanya kembali apakah data yang kita punya sudah berubah menjadi balanced atau tidak."
      ]
    },
    {
      "cell_type": "code",
      "metadata": {
        "colab": {
          "base_uri": "https://localhost:8080/"
        },
        "id": "PYggy6v5vYDJ",
        "outputId": "76a94914-204a-4b0f-afe4-a988ae908d29"
      },
      "source": [
        "print(\"fill :\")\n",
        "print(X_train_up_fill.shape)\n",
        "print(X_train_down_fill.shape)\n",
        "\n",
        "\n",
        "print(\"drop :\")\n",
        "print(X_train_up_drop.shape)\n",
        "print(X_train_down_drop.shape)"
      ],
      "execution_count": null,
      "outputs": [
        {
          "output_type": "stream",
          "name": "stdout",
          "text": [
            "fill :\n",
            "(50000, 22)\n",
            "(50000, 22)\n",
            "drop :\n",
            "(23000, 22)\n",
            "(23000, 22)\n"
          ]
        }
      ]
    },
    {
      "cell_type": "markdown",
      "metadata": {
        "id": "TpqZEnZ4oQsc"
      },
      "source": [
        "Sekarang kita akan menggabungkan data yang sudah kita resample untuk data fill dan drop."
      ]
    },
    {
      "cell_type": "code",
      "metadata": {
        "id": "uBJ76ZqNvrfG"
      },
      "source": [
        "X_train_fill = pd.concat([X_train_up_fill, X_train_down_fill])\n",
        "X_train_drop = pd.concat([X_train_up_drop, X_train_down_drop])\n",
        "\n",
        "y_train_fill = X_train_fill.Y\n",
        "X_train_fill = X_train_fill.loc[:,X_train_fill.columns != \"Y\"]\n",
        "\n",
        "y_train_drop = X_train_drop.Y\n",
        "X_train_drop = X_train_drop.loc[:,X_train_drop.columns != \"Y\"]"
      ],
      "execution_count": null,
      "outputs": []
    },
    {
      "cell_type": "markdown",
      "metadata": {
        "id": "O2jCiNHvoaVk"
      },
      "source": [
        "Setelah data yang kita punya rapih, maka kita dapat langsung menggunakan model Decision Tree. Akan tetapi data yang bertipe data category tidak bisa kita gunakan, maka kita akan menggunakan one hot encoder untuk mengencode data category tersbeut.\n",
        "\n",
        "Disini kita membuat 2 model yaitu `fit_tree_fill` yang berisikan model untuk memprediksi data yang kita fill, dan `fit_tree_drop` yang berisikan data yang kita drop ketika ada data yang NA."
      ]
    },
    {
      "cell_type": "code",
      "metadata": {
        "id": "GnshcYlcqLTT"
      },
      "source": [
        "fit_tree_fill = tree.DecisionTreeClassifier().fit(pd.get_dummies(X_train_fill), y_train_fill)\n",
        "fit_tree_drop = tree.DecisionTreeClassifier().fit(pd.get_dummies(X_train_drop), y_train_drop)"
      ],
      "execution_count": null,
      "outputs": []
    },
    {
      "cell_type": "markdown",
      "metadata": {
        "id": "wHryExw2o1Hb"
      },
      "source": [
        "\n",
        "Setelah kita membuat model, maka kita siap untuk memprediksi. Disini kita memprediksi menggunakan 2 model yang sudah kita buat dan hasil prediksinya disimpan dalam variable `pred_tree_fill` dan `pred_tree_drop`."
      ]
    },
    {
      "cell_type": "code",
      "metadata": {
        "id": "aRIm5LvkwL0L"
      },
      "source": [
        "pred_tree_fill = fit_tree_fill.predict(pd.get_dummies(X_test_fill))\n",
        "pred_tree_drop = fit_tree_fill.predict(pd.get_dummies(X_test_drop))"
      ],
      "execution_count": null,
      "outputs": []
    },
    {
      "cell_type": "markdown",
      "metadata": {
        "id": "Ds4SFLFwpgGX"
      },
      "source": [
        "Sekarang kita akan memvalidasi kedua hasil prediksi kita menggunakan `confusion_matrix` dan `accuracy_score`. disini kita mendapatkan beberapa hasil.\n",
        "\n",
        "1.   Hasil akurasi yang pertama untuk data yang kita isi ialah sebesar 75%\n",
        "2.   Hasil akurasi yang kedua untuk data NA yang kita buang ialah sebesar 87%\n",
        "\n",
        "\n",
        "\n",
        "\n",
        "Dari hasil ini, kita bisa simpulkan bahwa model Decision Tree dengan membuang data yang NA dapat meningkatkan hasil prediksi dari pada data yang kita isi pada nilai NA nya."
      ]
    },
    {
      "cell_type": "code",
      "metadata": {
        "colab": {
          "base_uri": "https://localhost:8080/"
        },
        "id": "QjMC6p6yxHwP",
        "outputId": "c8102725-5630-4cc0-fea7-3c616584f048"
      },
      "source": [
        "matrix = confusion_matrix(y_test_fill, pred_tree_fill, labels=[\"Yes\", \"No\"])\n",
        "accuracy = accuracy_score(y_test_fill, pred_tree_fill)\n",
        "print(\"fill : \")\n",
        "print(matrix)\n",
        "print(accuracy)\n",
        "\n",
        "matrix = confusion_matrix(y_test_drop, pred_tree_drop, labels=[\"Yes\", \"No\"])\n",
        "accuracy = accuracy_score(y_test_drop, pred_tree_drop)\n",
        "print(\"drop : \")\n",
        "print(matrix)\n",
        "print(accuracy)"
      ],
      "execution_count": null,
      "outputs": [
        {
          "output_type": "stream",
          "name": "stdout",
          "text": [
            "fill : \n",
            "[[ 4115  2312]\n",
            " [ 4769 17896]]\n",
            "0.7565997525092809\n",
            "drop : \n",
            "[[2176  254]\n",
            " [1202 7652]]\n",
            "0.8709677419354839\n"
          ]
        }
      ]
    },
    {
      "cell_type": "markdown",
      "metadata": {
        "id": "ujboEFFsq7i9"
      },
      "source": [
        "Disini juga kita dapat melihat keseluruhan matrix dari hasil prediksi dan model kita menggunakan `classification_report`"
      ]
    },
    {
      "cell_type": "code",
      "metadata": {
        "colab": {
          "base_uri": "https://localhost:8080/"
        },
        "id": "jG747-klx16M",
        "outputId": "8657eeba-2276-43cf-a96c-a587236c69b6"
      },
      "source": [
        "matrix = classification_report(y_test_fill, pred_tree_fill)\n",
        "print('Classification report fill : \\n',matrix)\n",
        "\n",
        "matrix = classification_report(y_test_drop, pred_tree_drop)\n",
        "print('Classification report drop : \\n',matrix)"
      ],
      "execution_count": null,
      "outputs": [
        {
          "output_type": "stream",
          "name": "stdout",
          "text": [
            "Classification report fill : \n",
            "               precision    recall  f1-score   support\n",
            "\n",
            "          No       0.89      0.79      0.83     22665\n",
            "         Yes       0.46      0.64      0.54      6427\n",
            "\n",
            "    accuracy                           0.76     29092\n",
            "   macro avg       0.67      0.71      0.69     29092\n",
            "weighted avg       0.79      0.76      0.77     29092\n",
            "\n",
            "Classification report drop : \n",
            "               precision    recall  f1-score   support\n",
            "\n",
            "          No       0.97      0.86      0.91      8854\n",
            "         Yes       0.64      0.90      0.75      2430\n",
            "\n",
            "    accuracy                           0.87     11284\n",
            "   macro avg       0.81      0.88      0.83     11284\n",
            "weighted avg       0.90      0.87      0.88     11284\n",
            "\n"
          ]
        }
      ]
    },
    {
      "cell_type": "markdown",
      "metadata": {
        "id": "S2ad7bV-rC7U"
      },
      "source": [
        "Selanjutnya kita akan menggunakan model LogisticRegression. Disini tetap kita transformasi data kita yang bertipe data category menggunakan `get_dummies`."
      ]
    },
    {
      "cell_type": "code",
      "metadata": {
        "id": "cz4PPB7Y0f99"
      },
      "source": [
        "fit_logit_fill = LogisticRegression(max_iter=10000).fit(pd.get_dummies(X_train_fill), y_train_fill)\n",
        "fit_logit_drop = LogisticRegression(max_iter=10000).fit(pd.get_dummies(X_train_drop), y_train_drop)"
      ],
      "execution_count": null,
      "outputs": []
    },
    {
      "cell_type": "markdown",
      "metadata": {
        "id": "b1uDDIpJrNwm"
      },
      "source": [
        "Setelah model kita buat, maka kita akan langsung memprediksi model model tersebut."
      ]
    },
    {
      "cell_type": "code",
      "metadata": {
        "id": "olPmEVc6kxvw"
      },
      "source": [
        "pred_logit_fill = fit_logit_fill.predict(pd.get_dummies(X_test_fill))\n",
        "pred_logit_drop = fit_logit_drop.predict(pd.get_dummies(X_test_drop))"
      ],
      "execution_count": null,
      "outputs": []
    },
    {
      "cell_type": "markdown",
      "metadata": {
        "id": "TN8tKw3XrSaB"
      },
      "source": [
        "Disini kita bisa lihat untuk model logistic regression bahwa :\n",
        "\n",
        "1. Data yang kita isi untuk nilai NA mendapatkan akurasi sebesar 79%\n",
        "2. Data yang kita buang untuk nilai NA mendapatkan akurasi sebesar 81%\n",
        "\n",
        "\n",
        "Yang berarti bisa kita simpulkan untuk model logistic regression lebih baik kita membuang data NA tersebut dari pada kita isi data tersebut."
      ]
    },
    {
      "cell_type": "code",
      "metadata": {
        "colab": {
          "base_uri": "https://localhost:8080/"
        },
        "id": "f3FeAFz63qno",
        "outputId": "7923e812-8005-4f90-aa50-b9a287bf8b8c"
      },
      "source": [
        "matrix = classification_report(y_test_fill, pred_logit_fill)\n",
        "print('Classification report fill : \\n',matrix)\n",
        "\n",
        "matrix = classification_report(y_test_drop, pred_logit_drop)\n",
        "print('Classification report drop : \\n',matrix)"
      ],
      "execution_count": null,
      "outputs": [
        {
          "output_type": "stream",
          "name": "stdout",
          "text": [
            "Classification report fill : \n",
            "               precision    recall  f1-score   support\n",
            "\n",
            "          No       0.92      0.80      0.86     22665\n",
            "         Yes       0.52      0.77      0.62      6427\n",
            "\n",
            "    accuracy                           0.79     29092\n",
            "   macro avg       0.72      0.78      0.74     29092\n",
            "weighted avg       0.83      0.79      0.80     29092\n",
            "\n",
            "Classification report drop : \n",
            "               precision    recall  f1-score   support\n",
            "\n",
            "          No       0.94      0.80      0.87      8854\n",
            "         Yes       0.53      0.81      0.64      2430\n",
            "\n",
            "    accuracy                           0.81     11284\n",
            "   macro avg       0.74      0.81      0.75     11284\n",
            "weighted avg       0.85      0.81      0.82     11284\n",
            "\n"
          ]
        }
      ]
    },
    {
      "cell_type": "markdown",
      "metadata": {
        "id": "ELGQ8npKs1XF"
      },
      "source": [
        "Untuk model terakhir kita akan menggunakan neural network dari keras. Disini kita akan mengimport library-library yang akan kita gunakan nantinya."
      ]
    },
    {
      "cell_type": "code",
      "metadata": {
        "id": "zzl7_M-grGVu"
      },
      "source": [
        "from tensorflow import keras\n",
        "from keras.models import Sequential\n",
        "from keras.layers import Dense\n",
        "from keras.layers import Dropout\n",
        "from tensorflow.keras.utils import to_categorical\n",
        "\n",
        "from numpy import array\n",
        "\n",
        "from sklearn.preprocessing import MinMaxScaler\n",
        "from sklearn.preprocessing import StandardScaler\n",
        "from sklearn.preprocessing import LabelEncoder"
      ],
      "execution_count": null,
      "outputs": []
    },
    {
      "cell_type": "markdown",
      "metadata": {
        "id": "8ax7hKJstAE9"
      },
      "source": [
        "Pada tahap ini, disini akan dilakukan normalization menggunakan `MinMaxScaler` agar data yang bertipe angka memiliki value yang mempunyai range 0-1 agar data memiliki varians yang kecil."
      ]
    },
    {
      "cell_type": "code",
      "metadata": {
        "id": "rYXeJVV1CK7A"
      },
      "source": [
        "scaler = MinMaxScaler()\n",
        "scaler.fit(pd.get_dummies(X_train_fill).values)\n",
        "\n",
        "X_train_fill = scaler.transform(pd.get_dummies(X_train_fill).values)\n",
        "X_test_fill = scaler.transform(pd.get_dummies(X_test_fill).values)\n",
        "\n",
        "X_train_drop = scaler.transform(pd.get_dummies(X_train_drop).values)\n",
        "X_test_drop = scaler.transform(pd.get_dummies(X_test_drop).values)"
      ],
      "execution_count": null,
      "outputs": []
    },
    {
      "cell_type": "markdown",
      "metadata": {
        "id": "X_5URcQCuQU1"
      },
      "source": [
        "Pada tahap ini, disini akan dilakukan standarization menggunakan `StandardScaler` agar data yang bertipe angka yang mempunyai outliers dapat kita perkecil rentan outliers nya."
      ]
    },
    {
      "cell_type": "code",
      "metadata": {
        "id": "WtKTpeavJwPh"
      },
      "source": [
        "std_scaler = StandardScaler()\n",
        "std_scaler.fit(X_train_fill)\n",
        "\n",
        "X_train_fill = std_scaler.transform(X_train_fill)\n",
        "X_test_fill = std_scaler.transform(X_test_fill)\n",
        "\n",
        "X_train_drop = std_scaler.transform(X_train_drop)\n",
        "X_test_drop = std_scaler.transform(X_test_drop)"
      ],
      "execution_count": null,
      "outputs": []
    },
    {
      "cell_type": "markdown",
      "metadata": {
        "id": "Kxs2kGHwu-t2"
      },
      "source": [
        "Selanjut kita akan menggunakan `LabelEncoder` untuk merubah target data kita menjadi numeric agar bisa kita proses di step selanjutnya."
      ]
    },
    {
      "cell_type": "code",
      "metadata": {
        "id": "-wkYC73Y5_mQ"
      },
      "source": [
        "label_encoder = LabelEncoder()\n",
        "label_encoder.fit(y_train_fill)\n",
        "\n",
        "y_train_fill = label_encoder.transform(y_train_fill)\n",
        "y_test_fill = label_encoder.transform(y_test_fill)\n",
        "\n",
        "y_train_drop = label_encoder.transform(y_train_drop)\n",
        "y_test_drop = label_encoder.transform(y_test_drop)"
      ],
      "execution_count": null,
      "outputs": []
    },
    {
      "cell_type": "markdown",
      "metadata": {
        "id": "4EP4urAjpQuW"
      },
      "source": [
        "Setelah itu kita mengecek data kita sendiri."
      ]
    },
    {
      "cell_type": "code",
      "metadata": {
        "colab": {
          "base_uri": "https://localhost:8080/"
        },
        "id": "7eKjUxUDJ0TJ",
        "outputId": "e246e5b6-3645-4a99-ebac-285916a97077"
      },
      "source": [
        "X_train_fill"
      ],
      "execution_count": null,
      "outputs": [
        {
          "output_type": "execute_result",
          "data": {
            "text/plain": [
              "array([[-0.51357735, -0.9856319 , -0.31230515, ..., -0.26479022,\n",
              "         0.66214423, -0.66214423],\n",
              "       [ 1.59587826,  1.61108505,  0.98442889, ..., -0.26479022,\n",
              "        -1.51024498,  1.51024498],\n",
              "       [-0.51357735, -1.536023  , -0.33056901, ..., -0.26479022,\n",
              "         0.66214423, -0.66214423],\n",
              "       ...,\n",
              "       [-0.19873323, -0.9856319 , -0.31230515, ..., -0.26479022,\n",
              "         0.66214423, -0.66214423],\n",
              "       [ 0.52540825,  0.35506435, -0.33056901, ..., -0.26479022,\n",
              "         0.66214423, -0.66214423],\n",
              "       [-0.62377279,  0.8066673 , -0.33056901, ..., -0.26479022,\n",
              "         0.66214423, -0.66214423]])"
            ]
          },
          "metadata": {},
          "execution_count": 40
        }
      ]
    },
    {
      "cell_type": "markdown",
      "metadata": {
        "id": "igybDom4pfOn"
      },
      "source": [
        "Setelah kita rasa data kita sudah siap dan bertipe angka dan matrix, maka data yang kita punya siap kita gunakan untuk pembelajaran mesin.\n",
        "\n",
        "Disini kita membuat 2 model MLP dari neural network untuk data fill dan drop.\n",
        "\n",
        "Kita buat model dengan menggunakan 1 input layer yang mempunyai 115 neuron sesuai dengan total prediktor yang kita punya, 2 hiden layer yang menggunakan 128 layer dengan aktivasi `relu` dengan dropout sebesar 0.2, dan 1 output layer berisikan 1 neuron yang mempunyai activation `sigmoid`. Disini juga kita menggunakan optimizer dari Adam dengan learning rate sebesar 0.0001, dan juga menggunakan loss function `binary_crossentropy` karena kita memiliki 2 target label, dan terakhir kita menggunakan metrics `accuracy` karena model kita merupakan supervised learning."
      ]
    },
    {
      "cell_type": "code",
      "metadata": {
        "colab": {
          "base_uri": "https://localhost:8080/"
        },
        "id": "tKBZ0Osm5J2x",
        "outputId": "a5a3984b-db1a-449a-9334-227678ae45bd"
      },
      "source": [
        "model_fill = Sequential()\n",
        "model_fill.add(Dense(128, input_dim = 115, activation=\"relu\"))\n",
        "model_fill.add(Dropout(0.2))\n",
        "model_fill.add(Dense(128, activation=\"relu\"))\n",
        "model_fill.add(Dropout(0.2))\n",
        "model_fill.add(Dense(1, activation=\"sigmoid\"))\n",
        "opt = keras.optimizers.Adam(learning_rate = 0.0001)\n",
        "model_fill.compile(loss='binary_crossentropy', optimizer=opt, metrics=['accuracy'])\n",
        "model_fill.summary()"
      ],
      "execution_count": null,
      "outputs": [
        {
          "output_type": "stream",
          "name": "stdout",
          "text": [
            "Model: \"sequential\"\n",
            "_________________________________________________________________\n",
            " Layer (type)                Output Shape              Param #   \n",
            "=================================================================\n",
            " dense (Dense)               (None, 128)               14848     \n",
            "                                                                 \n",
            " dropout (Dropout)           (None, 128)               0         \n",
            "                                                                 \n",
            " dense_1 (Dense)             (None, 128)               16512     \n",
            "                                                                 \n",
            " dropout_1 (Dropout)         (None, 128)               0         \n",
            "                                                                 \n",
            " dense_2 (Dense)             (None, 1)                 129       \n",
            "                                                                 \n",
            "=================================================================\n",
            "Total params: 31,489\n",
            "Trainable params: 31,489\n",
            "Non-trainable params: 0\n",
            "_________________________________________________________________\n"
          ]
        }
      ]
    },
    {
      "cell_type": "code",
      "metadata": {
        "colab": {
          "base_uri": "https://localhost:8080/"
        },
        "id": "VW59R5wGtqEk",
        "outputId": "2cf7bb56-9790-4521-e5bd-608bf1523a22"
      },
      "source": [
        "model_drop = Sequential()\n",
        "model_drop.add(Dense(128, input_dim = 115, activation=\"relu\"))\n",
        "model_drop.add(Dropout(0.2))\n",
        "model_drop.add(Dense(128, activation=\"relu\"))\n",
        "model_drop.add(Dropout(0.2))\n",
        "model_drop.add(Dense(1, activation=\"sigmoid\"))\n",
        "opt = keras.optimizers.Adam(learning_rate = 0.0001)\n",
        "model_drop.compile(loss='binary_crossentropy', optimizer=opt, metrics=['accuracy'])\n",
        "model_drop.summary()"
      ],
      "execution_count": null,
      "outputs": [
        {
          "output_type": "stream",
          "name": "stdout",
          "text": [
            "Model: \"sequential_1\"\n",
            "_________________________________________________________________\n",
            " Layer (type)                Output Shape              Param #   \n",
            "=================================================================\n",
            " dense_3 (Dense)             (None, 128)               14848     \n",
            "                                                                 \n",
            " dropout_2 (Dropout)         (None, 128)               0         \n",
            "                                                                 \n",
            " dense_4 (Dense)             (None, 128)               16512     \n",
            "                                                                 \n",
            " dropout_3 (Dropout)         (None, 128)               0         \n",
            "                                                                 \n",
            " dense_5 (Dense)             (None, 1)                 129       \n",
            "                                                                 \n",
            "=================================================================\n",
            "Total params: 31,489\n",
            "Trainable params: 31,489\n",
            "Non-trainable params: 0\n",
            "_________________________________________________________________\n"
          ]
        }
      ]
    },
    {
      "cell_type": "markdown",
      "metadata": {
        "id": "GkItM4JUrF6F"
      },
      "source": [
        "Setelah kita membuat 2 model tersebut, sekarang kita bisa langsung training model dengan epoch sebesar 20 dan batch size sebesar 256 untuk kedua model tersebut."
      ]
    },
    {
      "cell_type": "code",
      "metadata": {
        "id": "NzbrWRFW84ll"
      },
      "source": [
        "history_model_fill = model_fill.fit(X_train_fill\n",
        "              ,y_train_fill\n",
        "              ,epochs=20\n",
        "              ,batch_size=256\n",
        "              ,validation_data=(X_test_fill, y_test_fill)\n",
        "              ,verbose = 0)"
      ],
      "execution_count": null,
      "outputs": []
    },
    {
      "cell_type": "code",
      "metadata": {
        "colab": {
          "base_uri": "https://localhost:8080/",
          "height": 281
        },
        "id": "5-dt1q676tg-",
        "outputId": "8623ed16-24e9-4b73-bc5d-9148017d1ec3"
      },
      "source": [
        "pyplot.title('Loss / Mean Squared Error')\n",
        "pyplot.plot(history_model_fill.history['loss'], label='train')\n",
        "pyplot.plot(history_model_fill.history['val_loss'], label='test')\n",
        "pyplot.legend()\n",
        "pyplot.show()"
      ],
      "execution_count": null,
      "outputs": [
        {
          "output_type": "display_data",
          "data": {
            "image/png": "[encoded data removed]",
            "text/plain": [
              "<Figure size 432x288 with 1 Axes>"
            ]
          },
          "metadata": {
            "needs_background": "light"
          }
        }
      ]
    },
    {
      "cell_type": "code",
      "metadata": {
        "id": "ijh3wiLWt7cl"
      },
      "source": [
        "history_model_drop = model_drop.fit(X_train_drop\n",
        "              ,y_train_drop\n",
        "              ,epochs=20\n",
        "              ,batch_size=256\n",
        "              ,validation_data=(X_test_drop, y_test_drop)\n",
        "              ,verbose = 0)"
      ],
      "execution_count": null,
      "outputs": []
    },
    {
      "cell_type": "code",
      "metadata": {
        "colab": {
          "base_uri": "https://localhost:8080/",
          "height": 281
        },
        "id": "3HTxkkLs6wn9",
        "outputId": "8bb0d1eb-acae-46e8-8039-5cafbd9c034d"
      },
      "source": [
        "pyplot.title('Loss / Mean Squared Error')\n",
        "pyplot.plot(history_model_drop.history['loss'], label='train')\n",
        "pyplot.plot(history_model_drop.history['val_loss'], label='test')\n",
        "pyplot.legend()\n",
        "pyplot.show()"
      ],
      "execution_count": null,
      "outputs": [
        {
          "output_type": "display_data",
          "data": {
            "image/png": "[encoded data removed]",
            "text/plain": [
              "<Figure size 432x288 with 1 Axes>"
            ]
          },
          "metadata": {
            "needs_background": "light"
          }
        }
      ]
    },
    {
      "cell_type": "markdown",
      "metadata": {
        "id": "GEcb8BujSEiC"
      },
      "source": [
        "Setelah model tersebut belajar, maka sekarang kita dapat memprediksi data test yang kita punya untuk memvalidasi model yang sudah kita buat. Setelah di prediksi, maka hasil prediksi yang sudah di buat masih berupa angka yang dimana harus kita rubah kedalam category. "
      ]
    },
    {
      "cell_type": "code",
      "metadata": {
        "colab": {
          "base_uri": "https://localhost:8080/"
        },
        "id": "vtBucBTUwsKP",
        "outputId": "e9041604-b6d2-4bee-e355-a127d7cea108"
      },
      "source": [
        "pred_keras_fill = (model_fill.predict(X_test_fill) >= 0.5).astype(\"int32\")\n",
        "class_keras_fill = label_encoder.inverse_transform(pred_keras_fill)\n",
        "\n",
        "\n",
        "pred_keras_drop = (model_drop.predict(X_test_drop) >= 0.5).astype(\"int32\")\n",
        "class_keras_drop = label_encoder.inverse_transform(pred_keras_drop)"
      ],
      "execution_count": null,
      "outputs": [
        {
          "output_type": "stream",
          "name": "stderr",
          "text": [
            "/usr/local/lib/python3.7/dist-packages/sklearn/preprocessing/_label.py:289: DataConversionWarning: A column-vector y was passed when a 1d array was expected. Please change the shape of y to (n_samples, ), for example using ravel().\n",
            "  y = column_or_1d(y, warn=True)\n"
          ]
        }
      ]
    },
    {
      "cell_type": "markdown",
      "metadata": {
        "id": "JXctPvyCTH5K"
      },
      "source": [
        "Setelah itu baru kita dapat menggunakan classification report jika semua data target sudah menjadi category. \n",
        "\n",
        "Disini kita mendapatkan hasil yang cukup baik yang dimana untuk model awal dengan data fill kita mendapatkan akurasi sekitar 80% dan untuk model kedua dengan data drop kita mendapatkan akurasi sekitar 81% yang berarti dari kedua data yang kita pakai tidak menambahkan akurasi yang signifikan."
      ]
    },
    {
      "cell_type": "code",
      "metadata": {
        "colab": {
          "base_uri": "https://localhost:8080/"
        },
        "id": "4RN9_9gqxtm2",
        "outputId": "855e5e00-caeb-4deb-b1ab-cdffae73143d"
      },
      "source": [
        "matrix = classification_report(label_encoder.inverse_transform(y_test_fill), class_keras_fill)\n",
        "print('Classification report fill : \\n',matrix)\n",
        "\n",
        "matrix = classification_report(label_encoder.inverse_transform(y_test_drop), class_keras_drop)\n",
        "print('Classification report drop : \\n',matrix)"
      ],
      "execution_count": null,
      "outputs": [
        {
          "output_type": "stream",
          "name": "stdout",
          "text": [
            "Classification report fill : \n",
            "               precision    recall  f1-score   support\n",
            "\n",
            "          No       0.93      0.80      0.86     22665\n",
            "         Yes       0.53      0.80      0.64      6427\n",
            "\n",
            "    accuracy                           0.80     29092\n",
            "   macro avg       0.73      0.80      0.75     29092\n",
            "weighted avg       0.85      0.80      0.81     29092\n",
            "\n",
            "Classification report drop : \n",
            "               precision    recall  f1-score   support\n",
            "\n",
            "          No       0.94      0.81      0.87      8854\n",
            "         Yes       0.54      0.82      0.65      2430\n",
            "\n",
            "    accuracy                           0.81     11284\n",
            "   macro avg       0.74      0.81      0.76     11284\n",
            "weighted avg       0.86      0.81      0.82     11284\n",
            "\n"
          ]
        }
      ]
    },
    {
      "cell_type": "markdown",
      "metadata": {
        "id": "D9JFfYseTzi3"
      },
      "source": [
        "Untuk hasilnya sendiri kita mempunyai beberapa model dari logistic regression, decision tree, dan juga neural network.\n",
        "\n",
        "Untuk hasil dari Decision tree sebagai berikut.\n",
        "\n",
        "1.   Hasil akurasi yang pertama untuk data yang kita isi ialah sebesar 75%\n",
        "2.   Hasil akurasi yang kedua untuk data NA yang kita buang ialah sebesar 87%\n",
        "\n",
        "Untuk hasil dari Logistic Regression sebagai berikut.\n",
        "\n",
        "1. Data yang kita isi untuk nilai NA mendapatkan akurasi sebesar 79%\n",
        "2. Data yang kita buang untuk nilai NA mendapatkan akurasi sebesar 81%\n",
        "\n",
        "dan Untuk hasil dari neural network sebagai berikut.\n",
        "\n",
        "1. Data yang kita isi untuk nilai NA mendapatkan akurasi sebesar 80%\n",
        "2. Data yang kita buang untuk nilai NA mendapatkan akurasi sebesar 81%\n",
        "\n",
        "Summary dari model yang kita buat untuk data di atas ialah untuk mendapatkan akurasi yang tinggi, kita dapat menggunakan model Decision tree dengan menghapus row yang memiliki nilai NA, sehingga kita bisa mendapatkan akurasi sebesar 87%\n"
      ]
    }
  ]
}